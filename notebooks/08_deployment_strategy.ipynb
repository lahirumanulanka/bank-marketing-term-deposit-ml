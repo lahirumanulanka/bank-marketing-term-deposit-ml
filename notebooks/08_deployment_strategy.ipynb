{
 "cells": [
  {
   "cell_type": "markdown",
   "metadata": {},
   "source": [
    "# Task 8: Deployment Strategy\n\n## Objective\nComprehensive deployment strategy covering:\n1. Model serialization and packaging\n2. API development with FastAPI\n3. Containerization with Docker\n4. Orchestration with Kubernetes\n5. MLflow model serving\n6. Cloud deployment options\n7. CI/CD pipeline\n8. Monitoring and logging\n9. Model versioning\n10. A/B testing framework\n\n---"
   ]
  },
  {
   "cell_type": "code",
   "execution_count": null,
   "metadata": {},
   "outputs": [],
   "source": [
    "import pandas as pd\nimport numpy as np\nimport joblib\nimport json\nimport os\nfrom pathlib import Path\n\nprint('Libraries imported successfully!')"
   ]
  },
  {
   "cell_type": "markdown",
   "metadata": {},
   "source": [
    "## 1. Model Serialization and Packaging"
   ]
  },
  {
   "cell_type": "code",
   "execution_count": null,
   "metadata": {},
   "outputs": [],
   "source": [
    "# Save model and preprocessing objects\ndef package_model_artifacts():\n    \"\"\"\n    Package all necessary artifacts for deployment:\n    - Trained model\n    - Preprocessing objects (scalers, encoders)\n    - Feature names\n    - Model metadata\n    \"\"\"\n    artifacts = {\n        'model': '../models/best_model.pkl',\n        'scaler': '../models/preprocessing/scaler.pkl',\n        'label_encoders': '../models/preprocessing/label_encoders.pkl',\n        'feature_names': '../models/preprocessing/feature_names.json',\n        'metadata': {\n            'model_version': '1.0.0',\n            'training_date': '2024-01-01',\n            'features_count': 26,\n            'target': 'term_deposit_subscription'\n        }\n    }\n    \n    # Save metadata\n    with open('../models/model_metadata.json', 'w') as f:\n        json.dump(artifacts['metadata'], f, indent=2)\n    \n    print('Model artifacts packaged:')\n    for key, value in artifacts.items():\n        print(f'  - {key}: {value}')\n\nprint('Model packaging function defined')"
   ]
  },
  {
   "cell_type": "markdown",
   "metadata": {},
   "source": [
    "## 2. API Development with FastAPI\n\n### 2.1 FastAPI Application Structure"
   ]
  },
  {
   "cell_type": "code",
   "execution_count": null,
   "metadata": {},
   "outputs": [],
   "source": [
    "# Example FastAPI app (save to deployment/app/main.py)\nfastapi_code = '''\nfrom fastapi import FastAPI, HTTPException\nfrom pydantic import BaseModel\nimport joblib\nimport pandas as pd\nimport numpy as np\nfrom typing import List, Dict\nimport logging\n\n# Configure logging\nlogging.basicConfig(level=logging.INFO)\nlogger = logging.getLogger(__name__)\n\n# Initialize FastAPI\napp = FastAPI(\n    title=\"Bank Marketing Prediction API\",\n    description=\"Predict term deposit subscription\",\n    version=\"1.0.0\"\n)\n\n# Load model artifacts\nmodel = joblib.load(\"/app/models/best_model.pkl\")\nscaler = joblib.load(\"/app/models/preprocessing/scaler.pkl\")\nlabel_encoders = joblib.load(\"/app/models/preprocessing/label_encoders.pkl\")\n\n# Request schema\nclass CustomerData(BaseModel):\n    age: int\n    job: str\n    marital: str\n    education: str\n    default: str\n    balance: float\n    housing: str\n    loan: str\n    contact: str\n    day: int\n    month: str\n    duration: int\n    campaign: int\n    pdays: int\n    previous: int\n    poutcome: str\n    # Add other features...\n\nclass PredictionResponse(BaseModel):\n    prediction: int\n    probability: float\n    confidence: str\n\n@app.get(\"/\")\ndef read_root():\n    return {\"message\": \"Bank Marketing Prediction API\", \"version\": \"1.0.0\"}\n\n@app.get(\"/health\")\ndef health_check():\n    return {\"status\": \"healthy\", \"model_loaded\": model is not None}\n\n@app.post(\"/predict\", response_model=PredictionResponse)\ndef predict(customer: CustomerData):\n    try:\n        # Convert to DataFrame\n        data = pd.DataFrame([customer.dict()])\n        \n        # Preprocess\n        # ... encoding, scaling logic ...\n        \n        # Predict\n        prediction = model.predict(data)[0]\n        probability = model.predict_proba(data)[0][1]\n        \n        # Confidence level\n        if probability > 0.7:\n            confidence = \"high\"\n        elif probability > 0.4:\n            confidence = \"medium\"\n        else:\n            confidence = \"low\"\n        \n        logger.info(f\"Prediction made: {prediction}, prob: {probability:.3f}\")\n        \n        return PredictionResponse(\n            prediction=int(prediction),\n            probability=float(probability),\n            confidence=confidence\n        )\n    \n    except Exception as e:\n        logger.error(f\"Prediction error: {str(e)}\")\n        raise HTTPException(status_code=500, detail=str(e))\n\n@app.post(\"/predict/batch\")\ndef predict_batch(customers: List[CustomerData]):\n    # Batch prediction implementation\n    pass\n'''\n\nprint('FastAPI application example:')\nprint('=' * 80)\nprint(fastapi_code[:500] + '...')\nprint('\\nFull code should be saved to: deployment/app/main.py')"
   ]
  },
  {
   "cell_type": "markdown",
   "metadata": {},
   "source": [
    "## 3. Docker Containerization\n\n### 3.1 Dockerfile"
   ]
  },
  {
   "cell_type": "code",
   "execution_count": null,
   "metadata": {},
   "outputs": [],
   "source": [
    "# Dockerfile content\ndockerfile_content = '''\nFROM python:3.11-slim\n\n# Set working directory\nWORKDIR /app\n\n# Install system dependencies\nRUN apt-get update && apt-get install -y \\\\\n    gcc \\\\\n    && rm -rf /var/lib/apt/lists/*\n\n# Copy requirements\nCOPY requirements.txt .\nRUN pip install --no-cache-dir -r requirements.txt\n\n# Copy application code\nCOPY app/ ./app/\nCOPY models/ ./models/\n\n# Expose port\nEXPOSE 8000\n\n# Health check\nHEALTHCHECK --interval=30s --timeout=3s --start-period=5s --retries=3 \\\\\n    CMD curl -f http://localhost:8000/health || exit 1\n\n# Run application\nCMD [\"uvicorn\", \"app.main:app\", \"--host\", \"0.0.0.0\", \"--port\", \"8000\"]\n'''\n\nprint('Dockerfile:')\nprint('=' * 80)\nprint(dockerfile_content)\nprint('\\nSave to: deployment/Dockerfile')"
   ]
  },
  {
   "cell_type": "markdown",
   "metadata": {},
   "source": [
    "### 3.2 Docker Compose for Local Testing"
   ]
  },
  {
   "cell_type": "code",
   "execution_count": null,
   "metadata": {},
   "outputs": [],
   "source": [
    "# docker-compose.yml\ndocker_compose = '''\nversion: '3.8'\n\nservices:\n  api:\n    build: .\n    ports:\n      - \"8000:8000\"\n    environment:\n      - MODEL_PATH=/app/models\n      - LOG_LEVEL=INFO\n    volumes:\n      - ./models:/app/models:ro\n    restart: unless-stopped\n    \n  prometheus:\n    image: prom/prometheus\n    ports:\n      - \"9090:9090\"\n    volumes:\n      - ./monitoring/prometheus.yml:/etc/prometheus/prometheus.yml\n    \n  grafana:\n    image: grafana/grafana\n    ports:\n      - \"3000:3000\"\n    environment:\n      - GF_SECURITY_ADMIN_PASSWORD=admin\n    volumes:\n      - grafana-data:/var/lib/grafana\n\nvolumes:\n  grafana-data:\n'''\n\nprint('docker-compose.yml:')\nprint('=' * 80)\nprint(docker_compose)\nprint('\\nSave to: deployment/docker-compose.yml')"
   ]
  },
  {
   "cell_type": "markdown",
   "metadata": {},
   "source": [
    "## 4. Kubernetes Deployment\n\n### 4.1 Kubernetes Manifests"
   ]
  },
  {
   "cell_type": "code",
   "execution_count": null,
   "metadata": {},
   "outputs": [],
   "source": [
    "# Kubernetes deployment manifest\nk8s_deployment = '''\napiVersion: apps/v1\nkind: Deployment\nmetadata:\n  name: bank-marketing-api\n  labels:\n    app: bank-marketing\nspec:\n  replicas: 3\n  selector:\n    matchLabels:\n      app: bank-marketing\n  template:\n    metadata:\n      labels:\n        app: bank-marketing\n    spec:\n      containers:\n      - name: api\n        image: bank-marketing:v1.0.0\n        ports:\n        - containerPort: 8000\n        env:\n        - name: MODEL_PATH\n          value: \"/app/models\"\n        resources:\n          requests:\n            memory: \"512Mi\"\n            cpu: \"500m\"\n          limits:\n            memory: \"1Gi\"\n            cpu: \"1000m\"\n        livenessProbe:\n          httpGet:\n            path: /health\n            port: 8000\n          initialDelaySeconds: 10\n          periodSeconds: 30\n        readinessProbe:\n          httpGet:\n            path: /health\n            port: 8000\n          initialDelaySeconds: 5\n          periodSeconds: 10\n---\napiVersion: v1\nkind: Service\nmetadata:\n  name: bank-marketing-service\nspec:\n  selector:\n    app: bank-marketing\n  ports:\n  - protocol: TCP\n    port: 80\n    targetPort: 8000\n  type: LoadBalancer\n'''\n\nprint('Kubernetes Deployment:')\nprint('=' * 80)\nprint(k8s_deployment)\nprint('\\nSave to: deployment/k8s/deployment.yaml')"
   ]
  },
  {
   "cell_type": "markdown",
   "metadata": {},
   "source": [
    "## 5. MLflow Model Serving"
   ]
  },
  {
   "cell_type": "code",
   "execution_count": null,
   "metadata": {},
   "outputs": [],
   "source": [
    "# MLflow model serving\nmlflow_serving = '''\n# Register model in MLflow\nimport mlflow\nimport mlflow.sklearn\n\n# Set tracking URI\nmlflow.set_tracking_uri(\"http://mlflow-server:5000\")\n\n# Register model\nmodel_uri = \"runs:/<run_id>/model\"\nmlflow.register_model(model_uri, \"bank-marketing-classifier\")\n\n# Promote to production\nclient = mlflow.tracking.MlflowClient()\nclient.transition_model_version_stage(\n    name=\"bank-marketing-classifier\",\n    version=1,\n    stage=\"Production\"\n)\n\n# Serve model\n# mlflow models serve -m models:/bank-marketing-classifier/Production -p 5001\n'''\n\nprint('MLflow Model Registration and Serving:')\nprint('=' * 80)\nprint(mlflow_serving)"
   ]
  },
  {
   "cell_type": "markdown",
   "metadata": {},
   "source": [
    "## 6. Cloud Deployment Options\n\n### 6.1 AWS Deployment"
   ]
  },
  {
   "cell_type": "markdown",
   "metadata": {},
   "source": [
    "**AWS SageMaker**:\n```python\nimport sagemaker\nfrom sagemaker.sklearn import SKLearnModel\n\n# Create SageMaker model\nmodel = SKLearnModel(\n    model_data='s3://bucket/model.tar.gz',\n    role='arn:aws:iam::account:role/SageMakerRole',\n    entry_point='inference.py',\n    framework_version='1.0-1'\n)\n\n# Deploy\npredictor = model.deploy(\n    instance_type='ml.t2.medium',\n    initial_instance_count=2\n)\n```\n\n**AWS Lambda + API Gateway**:\n- Serverless deployment for low-latency predictions\n- Auto-scaling based on demand\n- Pay-per-use pricing\n\n### 6.2 Azure Deployment\n\n**Azure ML Service**:\n```python\nfrom azureml.core import Workspace, Model\nfrom azureml.core.webservice import AciWebservice, Webservice\n\n# Register model\nmodel = Model.register(\n    workspace=ws,\n    model_path='./models/best_model.pkl',\n    model_name='bank-marketing-model'\n)\n\n# Deploy\nservice = Model.deploy(\n    workspace=ws,\n    name='bank-marketing-service',\n    models=[model],\n    inference_config=inference_config,\n    deployment_config=aci_config\n)\n```\n\n### 6.3 GCP Deployment\n\n**Google AI Platform**:\n```bash\n# Create model\ngcloud ai-platform models create bank_marketing\n\n# Create version\ngcloud ai-platform versions create v1 \\\\\n    --model=bank_marketing \\\\\n    --runtime-version=2.11 \\\\\n    --python-version=3.8 \\\\\n    --framework=scikit-learn \\\\\n    --package-uris=gs://bucket/model.tar.gz\n\n# Predict\ngcloud ai-platform predict \\\\\n    --model=bank_marketing \\\\\n    --version=v1 \\\\\n    --json-instances=instances.json\n```"
   ]
  },
  {
   "cell_type": "markdown",
   "metadata": {},
   "source": [
    "## 7. CI/CD Pipeline\n\n### 7.1 GitHub Actions Workflow"
   ]
  },
  {
   "cell_type": "code",
   "execution_count": null,
   "metadata": {},
   "outputs": [],
   "source": [
    "# .github/workflows/deploy.yml\ngithub_actions = '''\nname: Deploy Model\n\non:\n  push:\n    branches: [main]\n    paths:\n      - 'models/**'\n      - 'deployment/**'\n\njobs:\n  test:\n    runs-on: ubuntu-latest\n    steps:\n      - uses: actions/checkout@v3\n      - name: Set up Python\n        uses: actions/setup-python@v4\n        with:\n          python-version: '3.11'\n      - name: Install dependencies\n        run: |\n          pip install -r requirements.txt\n          pip install pytest\n      - name: Run tests\n        run: pytest tests/\n  \n  build:\n    needs: test\n    runs-on: ubuntu-latest\n    steps:\n      - uses: actions/checkout@v3\n      - name: Build Docker image\n        run: |\n          docker build -t bank-marketing:${{ github.sha }} .\n      - name: Push to registry\n        run: |\n          docker tag bank-marketing:${{ github.sha }} registry.example.com/bank-marketing:${{ github.sha }}\n          docker push registry.example.com/bank-marketing:${{ github.sha }}\n  \n  deploy:\n    needs: build\n    runs-on: ubuntu-latest\n    steps:\n      - name: Deploy to Kubernetes\n        run: |\n          kubectl set image deployment/bank-marketing-api \\\\\n            api=registry.example.com/bank-marketing:${{ github.sha }}\n'''\n\nprint('GitHub Actions CI/CD:')\nprint('=' * 80)\nprint(github_actions)\nprint('\\nSave to: .github/workflows/deploy.yml')"
   ]
  },
  {
   "cell_type": "markdown",
   "metadata": {},
   "source": [
    "## 8. Monitoring and Logging\n\n### 8.1 Prometheus Metrics"
   ]
  },
  {
   "cell_type": "code",
   "execution_count": null,
   "metadata": {},
   "outputs": [],
   "source": [
    "# Add to FastAPI app for Prometheus metrics\nmonitoring_code = '''\nfrom prometheus_client import Counter, Histogram, Gauge, make_asgi_app\nfrom fastapi import FastAPI\nimport time\n\n# Metrics\nprediction_counter = Counter('predictions_total', 'Total predictions made')\nprediction_latency = Histogram('prediction_latency_seconds', 'Prediction latency')\nmodel_score_gauge = Gauge('model_confidence_score', 'Model confidence')\n\n@app.post(\"/predict\")\nasync def predict(customer: CustomerData):\n    start_time = time.time()\n    \n    # Make prediction\n    result = make_prediction(customer)\n    \n    # Update metrics\n    prediction_counter.inc()\n    prediction_latency.observe(time.time() - start_time)\n    model_score_gauge.set(result.probability)\n    \n    return result\n\n# Mount metrics endpoint\nmetrics_app = make_asgi_app()\napp.mount(\"/metrics\", metrics_app)\n'''\n\nprint('Prometheus Monitoring:')\nprint('=' * 80)\nprint(monitoring_code)"
   ]
  },
  {
   "cell_type": "markdown",
   "metadata": {},
   "source": [
    "### 8.2 Logging Strategy"
   ]
  },
  {
   "cell_type": "code",
   "execution_count": null,
   "metadata": {},
   "outputs": [],
   "source": [
    "# Logging configuration\nlogging_config = '''\nimport logging\nimport json\nfrom datetime import datetime\n\nclass JSONFormatter(logging.Formatter):\n    def format(self, record):\n        log_data = {\n            'timestamp': datetime.utcnow().isoformat(),\n            'level': record.levelname,\n            'message': record.getMessage(),\n            'module': record.module,\n            'function': record.funcName\n        }\n        return json.dumps(log_data)\n\n# Configure logger\nlogger = logging.getLogger(__name__)\nhandler = logging.StreamHandler()\nhandler.setFormatter(JSONFormatter())\nlogger.addHandler(handler)\nlogger.setLevel(logging.INFO)\n\n# Log predictions\nlogger.info(f\"Prediction: {prediction}, Prob: {probability:.3f}\", \n            extra={'customer_id': customer_id, 'model_version': '1.0.0'})\n'''\n\nprint('Structured Logging:')\nprint('=' * 80)\nprint(logging_config)"
   ]
  },
  {
   "cell_type": "markdown",
   "metadata": {},
   "source": [
    "## 9. Model Versioning Strategy"
   ]
  },
  {
   "cell_type": "markdown",
   "metadata": {},
   "source": [
    "### Version Control Scheme\n\n**Semantic Versioning: MAJOR.MINOR.PATCH**\n\n- **MAJOR**: Incompatible API changes, different features\n- **MINOR**: New functionality, backward compatible\n- **PATCH**: Bug fixes, retraining with same architecture\n\n**Example**:\n- v1.0.0: Initial production model\n- v1.1.0: Added new economic features\n- v1.1.1: Retrained with latest data\n- v2.0.0: Complete architecture change\n\n### Model Registry\n\n```python\n# Track models in MLflow\nwith mlflow.start_run():\n    mlflow.log_param('version', '1.1.0')\n    mlflow.log_param('training_date', datetime.now())\n    mlflow.log_metric('f1_score', f1)\n    mlflow.sklearn.log_model(model, 'model')\n    \n    # Tag for deployment\n    mlflow.set_tag('stage', 'production')\n```\n\n### Rollback Strategy\n\n1. Keep last 3 production models\n2. Quick rollback to previous version\n3. Gradual rollout (10% \u2192 50% \u2192 100%)\n4. Automated rollback if metrics degrade"
   ]
  },
  {
   "cell_type": "markdown",
   "metadata": {},
   "source": [
    "## 10. A/B Testing Framework"
   ]
  },
  {
   "cell_type": "code",
   "execution_count": null,
   "metadata": {},
   "outputs": [],
   "source": [
    "# A/B testing implementation\nab_testing = '''\nimport random\nimport mlflow\n\nclass ABTestManager:\n    def __init__(self, model_a, model_b, traffic_split=0.5):\n        self.model_a = model_a  # Current production\n        self.model_b = model_b  # New model\n        self.traffic_split = traffic_split\n        self.metrics_a = []\n        self.metrics_b = []\n    \n    def predict(self, features, customer_id):\n        # Route traffic\n        if random.random() < self.traffic_split:\n            model = self.model_a\n            variant = 'A'\n        else:\n            model = self.model_b\n            variant = 'B'\n        \n        # Make prediction\n        prediction = model.predict(features)\n        probability = model.predict_proba(features)[0][1]\n        \n        # Log for analysis\n        self.log_prediction(customer_id, variant, prediction, probability)\n        \n        return prediction, probability\n    \n    def log_prediction(self, customer_id, variant, prediction, probability):\n        # Log to database or mlflow\n        mlflow.log_metric(f'prediction_{variant}', prediction)\n        \n    def analyze_results(self):\n        # Statistical significance testing\n        from scipy import stats\n        \n        # Compare conversion rates\n        conversions_a = sum(self.metrics_a)\n        conversions_b = sum(self.metrics_b)\n        \n        # Chi-square test\n        chi2, p_value = stats.chi2_contingency([\n            [conversions_a, len(self.metrics_a) - conversions_a],\n            [conversions_b, len(self.metrics_b) - conversions_b]\n        ])\n        \n        print(f\"P-value: {p_value}\")\n        print(f\"Significant: {p_value < 0.05}\")\n        \n        return p_value\n'''\n\nprint('A/B Testing Framework:')\nprint('=' * 80)\nprint(ab_testing)"
   ]
  },
  {
   "cell_type": "markdown",
   "metadata": {},
   "source": [
    "## 11. Complete Deployment Checklist"
   ]
  },
  {
   "cell_type": "markdown",
   "metadata": {},
   "source": [
    "### Pre-Deployment\n\n- [ ] Model trained and validated\n- [ ] Hyperparameters tuned\n- [ ] Model artifacts saved\n- [ ] Unit tests passing\n- [ ] Integration tests passing\n- [ ] Performance benchmarks met\n- [ ] Fairness audit completed\n- [ ] Documentation updated\n\n### Deployment\n\n- [ ] Docker image built and tested\n- [ ] Kubernetes manifests created\n- [ ] Monitoring configured\n- [ ] Logging configured\n- [ ] API endpoints tested\n- [ ] Load testing completed\n- [ ] Security scan passed\n- [ ] Rollback plan ready\n\n### Post-Deployment\n\n- [ ] Health checks passing\n- [ ] Metrics being collected\n- [ ] Alerts configured\n- [ ] A/B test running\n- [ ] Performance monitoring active\n- [ ] Incident response plan ready\n- [ ] Documentation published\n- [ ] Team trained\n\n### Ongoing\n\n- [ ] Weekly performance review\n- [ ] Monthly model retraining\n- [ ] Quarterly fairness audit\n- [ ] Data drift monitoring\n- [ ] Model drift monitoring\n- [ ] User feedback collection\n- [ ] Continuous improvement"
   ]
  },
  {
   "cell_type": "markdown",
   "metadata": {},
   "source": [
    "## Summary\n\nThis notebook provided a comprehensive deployment strategy:\n\n\u2705 Model serialization and packaging  \n\u2705 FastAPI application development  \n\u2705 Docker containerization  \n\u2705 Kubernetes orchestration  \n\u2705 MLflow model serving  \n\u2705 Cloud deployment options (AWS, Azure, GCP)  \n\u2705 CI/CD pipeline with GitHub Actions  \n\u2705 Monitoring with Prometheus and Grafana  \n\u2705 Structured logging  \n\u2705 Model versioning strategy  \n\u2705 A/B testing framework  \n\u2705 Complete deployment checklist  \n\n**The model is now ready for production deployment with proper monitoring, versioning, and continuous improvement mechanisms.**\n\n---\n\n**End of Project - All 8 Tasks Completed!**"
   ]
  }
 ],
 "metadata": {
  "kernelspec": {
   "display_name": "Python 3",
   "language": "python",
   "name": "python3"
  },
  "language_info": {
   "name": "python",
   "version": "3.12.3"
  }
 },
 "nbformat": 4,
 "nbformat_minor": 4
}